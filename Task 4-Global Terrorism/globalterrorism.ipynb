{
 "cells": [
  {
   "cell_type": "markdown",
   "metadata": {},
   "source": [
    "![title](Capture.PNG)"
   ]
  },
  {
   "cell_type": "markdown",
   "metadata": {},
   "source": [
    "<h1>Author: Achal Mate</h1>\n",
    "\n",
    "    "
   ]
  },
  {
   "cell_type": "markdown",
   "metadata": {},
   "source": [
    "<h1>Task: Exploratory Data Analysis - Terrorism</h1>"
   ]
  },
  {
   "cell_type": "markdown",
   "metadata": {},
   "source": [
    "<h2>Objectives</h2><h3>\n",
    "● Perform ‘Exploratory Data Analysis’ on dataset ‘Global Terrorism’<br>\n",
    "\n",
    "● As a security/defense analyst, try to find out the hot zone of terrorism.<br>\n",
    "\n",
    "● What all security issues and insights you can derive by EDA?</h3>"
   ]
  },
  {
   "cell_type": "markdown",
   "metadata": {},
   "source": [
    "<h3>Import All Necessary Library</h3>"
   ]
  },
  {
   "cell_type": "code",
   "execution_count": null,
   "metadata": {},
   "outputs": [],
   "source": [
    "import plotly.express as px\n",
    "import numpy as np\n",
    "import pandas as pd\n",
    "import seaborn as sns\n",
    "import folium\n",
    "from folium.plugins import MarkerCluster \n",
    "import matplotlib.pyplot as plt\n",
    "%matplotlib inline\n",
    "import warnings\n",
    "warnings.filterwarnings('ignore')\n",
    "!py -m pip install folium"
   ]
  },
  {
   "cell_type": "markdown",
   "metadata": {},
   "source": [
    "<h3>Read the DataSet</h3>"
   ]
  },
  {
   "cell_type": "code",
   "execution_count": null,
   "metadata": {},
   "outputs": [],
   "source": [
    "df_globalterrorism = pd.read_csv(\"globalterrorism_data.csv\",encoding='ISO-8859-1')"
   ]
  },
  {
   "cell_type": "code",
   "execution_count": null,
   "metadata": {},
   "outputs": [],
   "source": [
    "df_globalterrorism.head()"
   ]
  },
  {
   "cell_type": "markdown",
   "metadata": {},
   "source": [
    "<h3>Dimensions of the Dataset</h3>"
   ]
  },
  {
   "cell_type": "code",
   "execution_count": null,
   "metadata": {},
   "outputs": [],
   "source": [
    "df_globalterrorism.shape"
   ]
  },
  {
   "cell_type": "markdown",
   "metadata": {},
   "source": [
    "<h3>Columns of the dataset</h3>"
   ]
  },
  {
   "cell_type": "code",
   "execution_count": null,
   "metadata": {},
   "outputs": [],
   "source": [
    "df_globalterrorism.columns"
   ]
  },
  {
   "cell_type": "markdown",
   "metadata": {},
   "source": [
    "<h3>Concise Summary</h3>"
   ]
  },
  {
   "cell_type": "code",
   "execution_count": null,
   "metadata": {},
   "outputs": [],
   "source": [
    "df_globalterrorism.info()"
   ]
  },
  {
   "cell_type": "markdown",
   "metadata": {},
   "source": [
    "<h3>Cleaning or Pre-Processing of data<br>Selection of required columns</h3>"
   ]
  },
  {
   "cell_type": "code",
   "execution_count": null,
   "metadata": {},
   "outputs": [],
   "source": [
    "df_globalterrorism.rename(columns={'iyear':'Year','imonth':'Month','iday':'Day','extended':'Extended','country_txt':'Country',\n",
    "                                   'provstate':'state','region_txt':'Region','attacktype1_txt':'AttackType','target1':'Target',\n",
    "                                   'nkill':'Killed','city':'City','latitude':'Latitude','longitude':'Longitude',    \n",
    "                                    'property':'Property','nwound':'Wounded','summary':'Summary','gname':'Group',\n",
    "                                   'targtype1_txt':'Target_type','multiple':'Multiple','success':'Success',      \n",
    "                                    'suicide':'Suicide','nperps':'Nperps' ,'claimed':'Claimed'  ,'nkillter':'Killer',\n",
    "                                   'weaptype1_txt':'Weapon_type','motive':'Motive'},inplace = True)"
   ]
  },
  {
   "cell_type": "code",
   "execution_count": null,
   "metadata": {},
   "outputs": [],
   "source": [
    "df_globalterrorism=df_globalterrorism[['Year','Month','Day','Extended','Country','state',\n",
    "                                       'Region','AttackType','Target','Killed','City','Latitude','Longitude',    \n",
    "                                       'Property','Wounded','Summary','Group','Target_type','Multiple','Success',                  \n",
    "                                        'Suicide','Nperps' ,'Claimed'  ,'Killer','Weapon_type','Motive']]"
   ]
  },
  {
   "cell_type": "code",
   "execution_count": null,
   "metadata": {},
   "outputs": [],
   "source": [
    "df_globalterrorism.head()# First 5 rows "
   ]
  },
  {
   "cell_type": "markdown",
   "metadata": {},
   "source": [
    "<h3> Statistical Summary of data</h3>"
   ]
  },
  {
   "cell_type": "code",
   "execution_count": null,
   "metadata": {
    "scrolled": true
   },
   "outputs": [],
   "source": [
    "df_globalterrorism.describe()"
   ]
  },
  {
   "cell_type": "markdown",
   "metadata": {},
   "source": [
    "<h3>Check the Missing Data</h3>"
   ]
  },
  {
   "cell_type": "code",
   "execution_count": null,
   "metadata": {},
   "outputs": [],
   "source": [
    "df_globalterrorism.isnull().sum()"
   ]
  },
  {
   "cell_type": "markdown",
   "metadata": {},
   "source": [
    "<h3>Remove Unknown values from co-ordinates</h3>"
   ]
  },
  {
   "cell_type": "code",
   "execution_count": null,
   "metadata": {},
   "outputs": [],
   "source": [
    "df_globalterrorism = df_globalterrorism[pd.notnull(df_globalterrorism.Latitude)]\n",
    "df_globalterrorism = df_globalterrorism[pd.notnull(df_globalterrorism.Longitude)]"
   ]
  },
  {
   "cell_type": "markdown",
   "metadata": {},
   "source": [
    "<h3>Fill the null values</h3>"
   ]
  },
  {
   "cell_type": "code",
   "execution_count": null,
   "metadata": {},
   "outputs": [],
   "source": [
    "df_globalterrorism.fillna(0)"
   ]
  },
  {
   "cell_type": "markdown",
   "metadata": {},
   "source": [
    "<h3>Destructive Feature of data</h3>\n"
   ]
  },
  {
   "cell_type": "markdown",
   "metadata": {},
   "source": [
    "<h4>Year with the most attacks</h4>"
   ]
  },
  {
   "cell_type": "code",
   "execution_count": null,
   "metadata": {},
   "outputs": [],
   "source": [
    "df_globalterrorism['Year'].value_counts().idxmax()"
   ]
  },
  {
   "cell_type": "markdown",
   "metadata": {},
   "source": [
    "<h4>Month with the most attacks</h4>"
   ]
  },
  {
   "cell_type": "code",
   "execution_count": null,
   "metadata": {},
   "outputs": [],
   "source": [
    "df_globalterrorism['Month'].value_counts().idxmax()"
   ]
  },
  {
   "cell_type": "markdown",
   "metadata": {},
   "source": [
    "<h4>Group with the most attacks</h4>"
   ]
  },
  {
   "cell_type": "code",
   "execution_count": null,
   "metadata": {},
   "outputs": [],
   "source": [
    "df_globalterrorism['Group'].value_counts().index[1]"
   ]
  },
  {
   "cell_type": "markdown",
   "metadata": {},
   "source": [
    "<h4>Most Attack Types</h4>"
   ]
  },
  {
   "cell_type": "code",
   "execution_count": null,
   "metadata": {},
   "outputs": [],
   "source": [
    "df_globalterrorism['AttackType'].value_counts().idxmax()"
   ]
  },
  {
   "cell_type": "markdown",
   "metadata": {},
   "source": [
    "<h4>Country with the most attacks</h4>"
   ]
  },
  {
   "cell_type": "code",
   "execution_count": null,
   "metadata": {},
   "outputs": [],
   "source": [
    "df_globalterrorism['Country'].value_counts().idxmax()"
   ]
  },
  {
   "cell_type": "markdown",
   "metadata": {},
   "source": [
    "<h4>Region with the most attacks</h4>"
   ]
  },
  {
   "cell_type": "code",
   "execution_count": null,
   "metadata": {},
   "outputs": [],
   "source": [
    "df_globalterrorism['Region'].value_counts().idxmax()"
   ]
  },
  {
   "cell_type": "markdown",
   "metadata": {},
   "source": [
    "<h3>Normal Distribtion of data</h3>"
   ]
  },
  {
   "cell_type": "code",
   "execution_count": null,
   "metadata": {},
   "outputs": [],
   "source": [
    "df_globalterrorism.hist(figsize=(14,10))"
   ]
  },
  {
   "cell_type": "markdown",
   "metadata": {},
   "source": [
    "<h3>plot the number of attackt from dataset and categories by successfull and unsuccessfull</h3>"
   ]
  },
  {
   "cell_type": "code",
   "execution_count": null,
   "metadata": {},
   "outputs": [],
   "source": [
    "plt.figure(figsize = (13,8))\n",
    "sns.countplot(x='Year',hue='Success',data = df_globalterrorism)\n",
    "plt.xticks(rotation=65)\n",
    "plt.title(\"Number of attack categories by successfull and unsuccessfull\")"
   ]
  },
  {
   "cell_type": "markdown",
   "metadata": {},
   "source": [
    "<h3>Total Number of attacks were there in 1970 ad 2017  And by  what percentage the attacks have increased globally</h3>"
   ]
  },
  {
   "cell_type": "code",
   "execution_count": null,
   "metadata": {},
   "outputs": [],
   "source": [
    "year= df_globalterrorism.Year.value_counts().to_dict()\n",
    "rate = ((year[2017]-year[1970])/year[2017])*100"
   ]
  },
  {
   "cell_type": "markdown",
   "metadata": {},
   "source": [
    "<h4>Number of attack in year 2017</h4>"
   ]
  },
  {
   "cell_type": "code",
   "execution_count": null,
   "metadata": {},
   "outputs": [],
   "source": [
    "year[2017]"
   ]
  },
  {
   "cell_type": "markdown",
   "metadata": {},
   "source": [
    "<h4>Number of attack in year 1970</h4>"
   ]
  },
  {
   "cell_type": "code",
   "execution_count": null,
   "metadata": {},
   "outputs": [],
   "source": [
    "year[2017]"
   ]
  },
  {
   "cell_type": "markdown",
   "metadata": {},
   "source": [
    "<h4>Number of attackes from 1970  to 2017 has increted by ? '%</h4>"
   ]
  },
  {
   "cell_type": "code",
   "execution_count": null,
   "metadata": {},
   "outputs": [],
   "source": [
    "np.round(rate,0)"
   ]
  },
  {
   "cell_type": "markdown",
   "metadata": {},
   "source": [
    "<h3>Count Distribution of Successfull and UnSuccessfull</h3>"
   ]
  },
  {
   "cell_type": "code",
   "execution_count": null,
   "metadata": {},
   "outputs": [],
   "source": [
    "plt.figure(figsize = (10,5))\n",
    "sns.countplot(df_globalterrorism.Success)\n",
    "plt.title(\"Count Distribution of Successfull and UnSuccessfull attack from 1970 to 2017\")\n"
   ]
  },
  {
   "cell_type": "markdown",
   "metadata": {},
   "source": [
    "0 for unsuccessfull attack<br>\n",
    "1 for successfull attack"
   ]
  },
  {
   "cell_type": "markdown",
   "metadata": {},
   "source": [
    "<h3>Corelation between data</h3>"
   ]
  },
  {
   "cell_type": "code",
   "execution_count": null,
   "metadata": {},
   "outputs": [],
   "source": [
    "df_globalterrorism.corr()"
   ]
  },
  {
   "cell_type": "code",
   "execution_count": null,
   "metadata": {},
   "outputs": [],
   "source": [
    "plt.figure(figsize = (15,10))\n",
    "sns.heatmap(df_globalterrorism.corr(),annot=True)"
   ]
  },
  {
   "cell_type": "markdown",
   "metadata": {},
   "source": [
    "<h3>Number of Terrorist Activities each Year</h3>"
   ]
  },
  {
   "cell_type": "code",
   "execution_count": null,
   "metadata": {
    "scrolled": true
   },
   "outputs": [],
   "source": [
    "plt.figure(figsize = (10,10))\n",
    "sns.countplot('Year',data=df_globalterrorism,palette = 'YlOrBr',edgecolor=sns.color_palette(\"RdYlGn_r\", 10),label=\"Number of Attack per year\")\n",
    "plt.xticks(rotation=65)\n",
    "plt.title('Number Of Terrorist Activities Each Year')\n",
    "plt.legend(loc='upper left') \n"
   ]
  },
  {
   "cell_type": "markdown",
   "metadata": {},
   "source": [
    "<h3>Death and Injuries at all time.</h3>"
   ]
  },
  {
   "cell_type": "code",
   "execution_count": null,
   "metadata": {},
   "outputs": [],
   "source": [
    "df_globalterrorism.plot(kind = 'scatter', x = 'Killed', y = 'Wounded', alpha = 0.5, color = 'red', figsize = (6,6), fontsize=15)\n",
    "plt.xlabel('Kill', fontsize=15)\n",
    "plt.ylabel('Wound', fontsize=15)\n",
    "plt.title('Kill - Wound Scatter Plot')\n"
   ]
  },
  {
   "cell_type": "markdown",
   "metadata": {},
   "source": [
    "<h4>In the majority of acts of terrorism, the mortality rate and injuries were low, but a small number of actions led to too many deaths and injuries.</h4>"
   ]
  },
  {
   "cell_type": "markdown",
   "metadata": {},
   "source": [
    "<h3> Number of people killed in particular Region</h3>"
   ]
  },
  {
   "cell_type": "code",
   "execution_count": null,
   "metadata": {},
   "outputs": [],
   "source": [
    "plt.figure(figsize = (10,10))\n",
    "sns.barplot(x='Region',y='Killed',data=df_globalterrorism)\n",
    "plt.title('Number of people killed in particular Region',fontsize=15)\n",
    "plt.ylabel('Killed',fontsize=15)\n",
    "plt.xlabel('Region',fontsize=15)\n",
    "plt.xticks(rotation=65)"
   ]
  },
  {
   "cell_type": "markdown",
   "metadata": {},
   "source": [
    "<h4>Most of the people are killed from Sub-Saharan Africa</h4>"
   ]
  },
  {
   "cell_type": "markdown",
   "metadata": {},
   "source": [
    "<h3>Number of people Wounded in particular Region</h3>"
   ]
  },
  {
   "cell_type": "code",
   "execution_count": null,
   "metadata": {},
   "outputs": [],
   "source": [
    "plt.figure(figsize = (10,10))\n",
    "sns.barplot(x='Region',y='Wounded',data=df_globalterrorism)\n",
    "plt.title('Number of people Wounded in particular Region',fontsize=15)\n",
    "plt.ylabel('Wounded',fontsize=15)\n",
    "plt.xlabel('Region',fontsize=15)\n",
    "plt.xticks(rotation=65)"
   ]
  },
  {
   "cell_type": "markdown",
   "metadata": {},
   "source": [
    "<h4>most of the people of East Asia region is wounded</h4>"
   ]
  },
  {
   "cell_type": "markdown",
   "metadata": {},
   "source": [
    "<h3>Terrorist Activities by Region in each Year through Area Plot</h3>"
   ]
  },
  {
   "cell_type": "code",
   "execution_count": null,
   "metadata": {},
   "outputs": [],
   "source": [
    "pd.crosstab(df_globalterrorism.Year, df_globalterrorism.Region).plot(kind='area',figsize=(15,6))\n",
    "plt.title('Terrorist Activities by Region in each Year',fontsize=15)\n",
    "plt.ylabel('Number of Attacks',fontsize=15)\n",
    "plt.xlabel('Years',fontsize=15)"
   ]
  },
  {
   "cell_type": "markdown",
   "metadata": {},
   "source": [
    "<h3>Frequency of Terrorist Actions in Customized Region</h3>\n"
   ]
  },
  {
   "cell_type": "code",
   "execution_count": null,
   "metadata": {},
   "outputs": [],
   "source": [
    "df_globalterrorism.Region.unique()"
   ]
  },
  {
   "cell_type": "markdown",
   "metadata": {},
   "source": [
    "Let's analyze in Middle East and North Africa"
   ]
  },
  {
   "cell_type": "code",
   "execution_count": null,
   "metadata": {
    "scrolled": true
   },
   "outputs": [],
   "source": [
    "middleEastData = df_globalterrorism[df_globalterrorism.Region == 'Middle East & North Africa']\n",
    "\n",
    "middleEastData.Year.plot(kind = 'hist', bins = 30,  color = 'red', fontsize=15,figsize=(15,6))\n",
    "plt.xlabel('Year', fontsize=15)\n",
    "plt.ylabel('Frequency', fontsize=15)\n",
    "plt.title('Frequency of Middle East & North Africa Terrorism Actions by Years',fontsize=15)\n"
   ]
  },
  {
   "cell_type": "markdown",
   "metadata": {},
   "source": [
    "<h3>Top Countries affected by Terror Attacks</h3>"
   ]
  },
  {
   "cell_type": "code",
   "execution_count": null,
   "metadata": {},
   "outputs": [],
   "source": [
    "df_globalterrorism.Country.value_counts()[:15]"
   ]
  },
  {
   "cell_type": "code",
   "execution_count": null,
   "metadata": {},
   "outputs": [],
   "source": [
    "plt.subplots(figsize=(15,6))\n",
    "sns.barplot(df_globalterrorism['Country'].value_counts()[:15].index,df_globalterrorism['Country'].value_counts()[:15].values,palette='rocket')\n",
    "plt.title('Top Countries Affected',fontsize=15)\n",
    "plt.xlabel('Countries',fontsize=15)\n",
    "plt.ylabel('Count',fontsize=15)\n",
    "plt.xticks(rotation= 65)\n"
   ]
  },
  {
   "cell_type": "markdown",
   "metadata": {},
   "source": [
    "<h3>ANALYSIS ON CUSTOMIZED DATA</h3>"
   ]
  },
  {
   "cell_type": "markdown",
   "metadata": {},
   "source": [
    "<h4>Terrorist Attacks of a Particular year and their Locations</h4>\n",
    "\n",
    "Let's look at the terrorist acts in the world over a certain year."
   ]
  },
  {
   "cell_type": "code",
   "execution_count": null,
   "metadata": {},
   "outputs": [],
   "source": [
    "filterYear = df_globalterrorism['Year'] == 1970"
   ]
  },
  {
   "cell_type": "code",
   "execution_count": null,
   "metadata": {},
   "outputs": [],
   "source": [
    " # filter data\n",
    "filterData = df_globalterrorism[filterYear]\n",
    "filterData "
   ]
  },
  {
   "cell_type": "code",
   "execution_count": null,
   "metadata": {},
   "outputs": [],
   "source": [
    "# filterData.info()\n",
    "reqFilterData = filterData.loc[:,'City':'Longitude'] # getting the required fields\n",
    "reqFilterDataList = reqFilterData.values.tolist()\n",
    "reqFilterDataList "
   ]
  },
  {
   "cell_type": "code",
   "execution_count": null,
   "metadata": {},
   "outputs": [],
   "source": [
    "map = folium.Map(location = [0, 30], tiles='CartoDB positron', zoom_start=2)\n",
    "# clustered marker\n",
    "markerCluster = folium.plugins.MarkerCluster().add_to(map)\n",
    "for point in range(0, len(reqFilterDataList)):\n",
    "    folium.Marker(location=[reqFilterDataList[point][1],reqFilterDataList[point][2]],\n",
    "                  popup = reqFilterDataList[point][0]).add_to(markerCluster)\n",
    "map"
   ]
  },
  {
   "cell_type": "markdown",
   "metadata": {},
   "source": [
    "<h4>84% of the terrorist attacks in 1970 were carried out on the American continent. In 1970, the Middle East and North Africa, currently the center of wars and terrorist attacks, faced only one terrorist attack.</h4>"
   ]
  },
  {
   "cell_type": "markdown",
   "metadata": {},
   "source": [
    "<h3>Check  which terrorist organizations have carried out their operations in each country. A value count would give us the terrorist organizations that have carried out the most attacks. we have indexed from 1 as to negate the value of 'Unknown'</h3>"
   ]
  },
  {
   "cell_type": "code",
   "execution_count": null,
   "metadata": {},
   "outputs": [],
   "source": [
    "df_globalterrorism.Group.value_counts()[1:15]"
   ]
  },
  {
   "cell_type": "code",
   "execution_count": null,
   "metadata": {},
   "outputs": [],
   "source": [
    "test = df_globalterrorism[df_globalterrorism.Group.isin(['Shining Path (SL)','Taliban','Islamic State of Iraq and the Levant (ISIL)'])]"
   ]
  },
  {
   "cell_type": "code",
   "execution_count": null,
   "metadata": {},
   "outputs": [],
   "source": [
    "test.Country.unique()"
   ]
  },
  {
   "cell_type": "code",
   "execution_count": null,
   "metadata": {},
   "outputs": [],
   "source": [
    "terror_df_group = df_globalterrorism.drop_duplicates(subset=['Country','Group'])"
   ]
  },
  {
   "cell_type": "code",
   "execution_count": null,
   "metadata": {},
   "outputs": [],
   "source": [
    "terrorist_groups = df_globalterrorism.Group.value_counts()[1:8].index.tolist()\n",
    "terror_df_group = terror_df_group.loc[terror_df_group.Group.isin(terrorist_groups)]\n",
    "print(terror_df_group.Group.unique())"
   ]
  },
  {
   "cell_type": "code",
   "execution_count": null,
   "metadata": {},
   "outputs": [],
   "source": [
    "map = folium.Map(location=[20, 0], tiles=\"CartoDB positron\", zoom_start=2)\n",
    "markerCluster = folium.plugins.MarkerCluster().add_to(map)\n",
    "for i in range(0,len(terror_df_group)):\n",
    "    folium.Marker([terror_df_group.iloc[i]['Latitude'],terror_df_group.iloc[i]['Longitude']], \n",
    "                  popup='Group:{}<br>Country:{}'.format(terror_df_group.iloc[i]['Group'], \n",
    "                  terror_df_group.iloc[i]['Country'])).add_to(map)\n",
    "map"
   ]
  },
  {
   "cell_type": "markdown",
   "metadata": {},
   "source": [
    "<h4>The Above map looks untidy even though it can be zoomed in to view the Country in question. Hence in the next chart, I have used Folium's Marker Cluster to cluster these icons. This makes it visually pleasing and highly interactive</h4>"
   ]
  },
  {
   "cell_type": "code",
   "execution_count": null,
   "metadata": {},
   "outputs": [],
   "source": [
    "m1 = folium.Map(location=[20, 0], tiles=\"CartoDB positron\", zoom_start=2)\n",
    "marker_cluster = MarkerCluster(\n",
    "    name='clustered icons',\n",
    "    overlay=True,\n",
    "    control=False,\n",
    "    icon_create_function=None\n",
    ")\n",
    "for i in range(0,len(terror_df_group)):\n",
    "    marker=folium.Marker([terror_df_group.iloc[i]['Latitude'],terror_df_group.iloc[i]['Longitude']]) \n",
    "    popup='Group:{}<br>Country:{}'.format(terror_df_group.iloc[i]['Group'],\n",
    "                                          terror_df_group.iloc[i]['Country'])\n",
    "    folium.Popup(popup).add_to(marker)\n",
    "    marker_cluster.add_child(marker)\n",
    "marker_cluster.add_to(m1)\n",
    "folium.TileLayer('openstreetmap').add_to(m1)\n",
    "folium.TileLayer('cartodbdark_matter').add_to(m1)\n",
    "folium.TileLayer('stamentoner').add_to(m1)\n",
    "folium.LayerControl().add_to(m1)\n",
    "\n",
    "m1"
   ]
  },
  {
   "cell_type": "markdown",
   "metadata": {},
   "source": [
    "<h3> Total Number of people killed in terror attack</h3>"
   ]
  },
  {
   "cell_type": "code",
   "execution_count": null,
   "metadata": {},
   "outputs": [],
   "source": [
    "killData = df_globalterrorism.loc[:,'Killed']\n",
    "print('Number of people killed by terror attack:', int(sum(killData.dropna())))# drop the NaN values"
   ]
  },
  {
   "cell_type": "markdown",
   "metadata": {},
   "source": [
    "<h3>Types of terrorist attacks that cause deaths</h3>"
   ]
  },
  {
   "cell_type": "code",
   "execution_count": null,
   "metadata": {},
   "outputs": [],
   "source": [
    "attackData = df_globalterrorism.loc[:,'AttackType']\n",
    "# attackData\n",
    "typeKillData = pd.concat([attackData, killData], axis=1)\n"
   ]
  },
  {
   "cell_type": "code",
   "execution_count": null,
   "metadata": {},
   "outputs": [],
   "source": [
    "typeKillFormatData = typeKillData.pivot_table(columns='AttackType', values='Killed', aggfunc='sum')\n",
    "typeKillFormatData\n"
   ]
  },
  {
   "cell_type": "markdown",
   "metadata": {},
   "source": [
    "<h3>Number of Casualities  V/S Killed people in each country per year</h3>"
   ]
  },
  {
   "cell_type": "code",
   "execution_count": null,
   "metadata": {},
   "outputs": [],
   "source": [
    "px.scatter(df_globalterrorism,df_globalterrorism.Wounded,df_globalterrorism.Killed,hover_name='Country',animation_frame='Year',animation_group='Country',\n",
    "          size='Success',size_max=40,range_color=[0,1],labels={'Killed':'Deaths','Wounded':'Casualities'},color=\"Suicide\",\n",
    "          title='Number of Casualities  V/S Killed people in each country per year')"
   ]
  },
  {
   "cell_type": "markdown",
   "metadata": {},
   "source": [
    "<h4>Terrorist acts in the Middle East and northern Africa have been seen to have fatal consequences. The Middle East and North Africa are seen to be the places of serious terrorist attacks. If you look at the graphics, it appears that Iraq, Afghanistan and Pakistan are the most damaged countries. </h4>"
   ]
  },
  {
   "cell_type": "markdown",
   "metadata": {},
   "source": [
    "<h1><center>Thank You</center></h1>"
   ]
  },
  {
   "cell_type": "code",
   "execution_count": null,
   "metadata": {},
   "outputs": [],
   "source": []
  }
 ],
 "metadata": {
  "kernelspec": {
   "display_name": "Python 3",
   "language": "python",
   "name": "python3"
  },
  "language_info": {
   "codemirror_mode": {
    "name": "ipython",
    "version": 3
   },
   "file_extension": ".py",
   "mimetype": "text/x-python",
   "name": "python",
   "nbconvert_exporter": "python",
   "pygments_lexer": "ipython3",
   "version": "3.8.5"
  }
 },
 "nbformat": 4,
 "nbformat_minor": 4
}
